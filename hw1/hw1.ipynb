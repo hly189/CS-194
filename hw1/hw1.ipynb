{
 "metadata": {
  "name": "",
  "signature": "sha256:c4572d8d1a7b6190928d52f6b7424400013c724bb7fc6fecef514fe2c2ce4e5d"
 },
 "nbformat": 3,
 "nbformat_minor": 0,
 "worksheets": [
  {
   "cells": [
    {
     "cell_type": "markdown",
     "metadata": {},
     "source": [
      "CS194-16 Introduction to Data Science\n",
      "\n",
      "**NOTE** click near here to select this cell, esc-Enter will get you into cell edit mode, shift-Enter gets you back\n",
      "\n",
      "**Name**: *Please put your name*\n",
      "\n",
      "**Student ID**: *Please put your student ID*\n",
      "\n",
      "\n",
      "Assignment 1: Text Analysis and Entity Resolution\n",
      "===\n",
      "\n",
      "## Overview\n",
      "\n",
      "Entity resolution is a common, yet difficult problem in data cleaning and integration.\n",
      "In this assignment, we will use powerful and scalable text analysis techniques to perform entity resolution across two data sets of commercial products."
     ]
    },
    {
     "cell_type": "markdown",
     "metadata": {},
     "source": [
      "### Entity Resolution\n",
      "\n",
      "Entity resolution, also known as record deduplication, is the process of identifying rows in one or more data sets that refer to the same real world entity.\n",
      "Take an example.\n",
      "You're on ebay looking for a [hip data science accessory][sliderulewiki], but you're on a budget, so you decide to scrape the [ebay listings][ebay] for a few days to get a feel for the market.\n",
      "Unfortunately, the listings are confusing and you don't know how to aggregate them.\n",
      "Entity resolution to the rescue!\n",
      "You find an [authoritative database][sliderules] and map all the ebay listings to it.\n",
      "Now you can comparison shop, get that sweet Keuffel and Esser for way cheap, and impress all the data hipsters.\n",
      "\n",
      "But finding matching records is a hard problem in general.\n",
      "A major reason is that the criteria for identifying duplicates are often vague and impossible to encode in rules.\n",
      "In addition, from a purely computational perspective, the problem is quadratic in the size of its inputs: naively, all pairs of records need to be compared to find all the duplicates.\n",
      "In this assignment, we will begin to address both these challenges.\n",
      "\n",
      "[sliderulewiki]: http://en.wikipedia.org/wiki/Slide_rule \"Only 2X faster than Hadoop\"\n",
      "\n",
      "[sliderules]: http://www.sliderule.ca/ \"Artisanal Data Technology\"\n",
      "\n",
      "[ebay]: http://www.ebay.com/sch/i.html?_odkw=keuffel+esser+slide+rule&_osacat=0&_trksid=p2045573.m570.l1313.TR0.TRC0.Xslide+rule&_nkw=slide+rule&_sacat=0&_from=R40 \"Impress your colleagues\""
     ]
    },
    {
     "cell_type": "markdown",
     "metadata": {},
     "source": [
      "\n",
      "### Application\n",
      "\n",
      "Your assignment is to perform entity resolution over two web-scraped data sets of commercial product listings, one from Amazon, and one from Google.\n",
      "The goal is to build a unified database of all products listed on the Internet: a one-stop-shop for all your shopping needs.  (Elevator pitch: *it's like **Kayak.com** for **e-commerce**!*)\n",
      "\n",
      "The web has made unprecedented amounts of data available publicly, but scraped data frequently needs to be de-duplicated.\n",
      "These data sets are typical examples of what you can collect with some simple scripting.\n",
      "The data is not especially large (just a few thousand records), but even so, you will find that entity resolution is a major challenge (top results with this data are ~50% success rate).\n",
      "Don't get discouraged; the goal is to get acquainted with techniques to tackle the problem, and apply them to a representative example.\n"
     ]
    },
    {
     "cell_type": "markdown",
     "metadata": {},
     "source": [
      "### Files\n",
      "\n",
      "Data files for this assignment can be found at:\n",
      "\n",
      "`https://github.com/biddata/datascience/raw/master/F15/hw1/hw1data.tar.gz`\n",
      "\n",
      "The zip file includes the following files:\n",
      "\n",
      "* **Google.csv**, the Google Products data set \n",
      "* **Amazon.csv**, the Amazon data set\n",
      "* **Google_small.csv**, 200 records sampled from the Google data\n",
      "* **Amazon_small.csv**, 200 records sampled from the Amazon data\n",
      "* **Amazon_Google_perfectMapping.csv**, the \"gold standard\" mapping of duplicates\n",
      "* **stopwords.txt**, a list of common English words\n",
      "\n",
      "Besides the complete data files, there are \"sample\" data files for each data set.\n",
      "Use these for **Part 1**.\n",
      "In addition, there is a \"gold standard\" file that contains all of the true mappings between duplicate entities in the two data sets.\n",
      "Every row in the gold standard file has a pair of record IDs (one Google, one Amazon) that belong to two record that describe the same thing in the real world.\n",
      "We will use the gold standard to evaluate our algorithms."
     ]
    },
    {
     "cell_type": "markdown",
     "metadata": {},
     "source": [
      "### Deliverables\n",
      "\n",
      "Complete the all the exercises below and turn in a write up in the form of an IPython notebook, that is, **an .ipynb file**.\n",
      "The write up should include your code, answers to exercise questions, and plots of results.\n",
      "Use the submission process described in the bcourses page for this HW. \n",
      "\n",
      "You can use this notebook and fill in answers inline, or if you prefer, do your write up in a separate notebook.\n",
      "In this notebook, we provide code templates for many of the exercises.\n",
      "They are intended to help with code re-use, since the exercises build on each other, and are highly recommended.\n",
      "Don't forget to include answers to questions that ask for natural language responses, i.e., in English, not code!\n",
      "\n",
      "We would prefer to test some of your code automatically, so please try to submit a notebook that uses the function names requested by the questions and that can be executed with \"Cell > Run all\"."
     ]
    },
    {
     "cell_type": "markdown",
     "metadata": {},
     "source": [
      "### Guidelines\n",
      "\n",
      "#### Code\n",
      "\n",
      "This assignment can be done with basic python and matplotlib.\n",
      "Feel free to use PANDAs, too, which you may find well suited to several exercises.\n",
      "As for other libraries, please check with course staff whether they're allowed.\n",
      "In general, we want you to use whatever is comfortable, except for libraries (e.g., NLTK) that include functionality covered in the assignment.\n",
      "\n",
      "You're not required to do your coding in IPython, so feel free to use your favorite editor or IDE.\n",
      "But when you're done, remember to put your code into a notebook for your write up.\n",
      "\n",
      "#### Collaboration\n",
      "\n",
      "This assignment is to be done individually.  Everyone should be getting a hands on experience in this course.  You are free to discuss course material with fellow students, and we encourage you to use Internet resources to aid your understanding, but the work you turn in, including all code and answers, must be your own work."
     ]
    },
    {
     "cell_type": "markdown",
     "metadata": {},
     "source": [
      "## Part 0: Preliminaries\n",
      "\n",
      "### Exercise 0\n",
      "\n",
      "Download the data and uncompress/unarchive it (tar -xzf will do it).\n",
      "Read each file in from the file system, and store them as lists of lines.\n",
      "\n",
      "For each of the data files (\"Google.csv\", \"Amazon.csv\", and the samples), we want to parse the IDs out of each record.\n",
      "The IDs are the first column of the file (they are URLs for Google, and alphanumeric strings for Amazon).\n",
      "Omitting the headers, load these data files into *dictionaries mapping ID to a single string containing the rest of the record except for the price field. Insert spaces between the other fields to make this string.\n"
     ]
    },
    {
     "cell_type": "code",
     "collapsed": false,
     "input": [
      "# Please preserve the format of this line so we can use it for automated testing.\n",
      "DATA_PATH = \"/Users/lythaihoa2311992/Desktop/CS/CS194/hw1/data/\" \n",
      "\n",
      "import csv\n",
      "# TODO Load data files here...\n",
      "def loadprodfile(fname, target_dict):\n",
      "    with open(fname, 'rb') as f: \n",
      "        reader = csv.reader(f)\n",
      "        next(reader, None)\n",
      "        for row in reader: \n",
      "            target_dict[row[0]] = \" \".join(row[1:])\n",
      "    return target_dict \n",
      "        \n",
      "amazon_dict = {}\n",
      "google_dict = {}\n",
      "amazon_small=loadprodfile(DATA_PATH + \"Amazon_small.csv\", amazon_dict)\n",
      "google_small = loadprodfile(DATA_PATH + \"Google_small.csv\", google_dict)"
     ],
     "language": "python",
     "metadata": {},
     "outputs": [],
     "prompt_number": 15
    },
    {
     "cell_type": "markdown",
     "metadata": {},
     "source": [
      "## Part 1: ER as Text Similarity\n",
      "\n",
      "A simple approach to entity resolution is to treat all records as strings and compute their similarity with a string distance function.\n",
      "In this section, we will build some components for bag-of-words text-analysis, and use them to compute record similarity.\n",
      "\n",
      "### 1.1 Bags of Words\n",
      "\n",
      "Bag-of-words is a conceptually simple yet powerful approach to text analysis.\n",
      "The idea is to treat strings, a.k.a. **documents**, as *unordered collections* of words, or **tokens**, i.e., as bags of words.\n",
      "\n",
      "> **Note on terminology**: \"token\" is more general than what we ordinarily mean by \"word\" and includes things like numbers, acronyms, and other exotica like word-roots and fixed-length character strings.\n",
      "> Bag of words techniques all apply to any sort of token, so when we say \"bag-of-words\" we really mean \"bag-of-tokens,\" strictly speaking.\n",
      "\n",
      "Tokens become the atomic unit of text comparison.\n",
      "If we want to compare two documents, we count how many tokens they share in common.\n",
      "If we want to search for documents with keyword queries (this is what Google does), then we turn the keywords into tokens and find documents that contain them.\n",
      "\n",
      "The power of this approach is that it makes string comparisons insensitive to small differences that probably do not affect meaning much, for example, punctuation and word order.\n",
      "\n"
     ]
    },
    {
     "cell_type": "markdown",
     "metadata": {},
     "source": [
      "#### Exercise 1\n",
      "\n",
      "**a**. Implement the function `simple_tokenize(string)` that takes a string and returns a list of tokens in the string.\n",
      "`simple_tokenize` should split strings using the provided regular expression (and its OK to use the re split function).\n",
      "Since we want to make token-matching case insensitive, make sure all tokens are lower-case.\n",
      "Give an interpretation, in natural language, of what the regular expression, `split_regex`, matches."
     ]
    },
    {
     "cell_type": "code",
     "collapsed": false,
     "input": [
      "import re\n",
      "\n",
      "quickbrownfox = \"A quick brown fox jumps over the lazy dog.\"\n",
      "split_regex = r'\\W+'\n",
      "\n",
      "# TODO Implement this\n",
      "def simple_tokenize(string):\n",
      "    tokens = re.split(split_regex, string)\n",
      "    lst = []\n",
      "    for x in tokens: \n",
      "        if x != \"\": lst.append(x.lower())\n",
      "    return lst\n",
      "\n",
      "print simple_tokenize(quickbrownfox) # Should give ['a', 'quick', 'brown', ... ]\n",
      "# Simple testcases\n",
      "assert(simple_tokenize(\" \") == [])\n",
      "assert(simple_tokenize(\"!!!!123A/456_B/789C.123A\") == [\"123a\",\"456_b\",\"789c\",\"123a\"])\n",
      "assert(simple_tokenize(quickbrownfox) == \n",
      "        ['a','quick','brown','fox','jumps','over','the','lazy','dog'])"
     ],
     "language": "python",
     "metadata": {},
     "outputs": [
      {
       "output_type": "stream",
       "stream": "stdout",
       "text": [
        "['a', 'quick', 'brown', 'fox', 'jumps', 'over', 'the', 'lazy', 'dog']\n"
       ]
      }
     ],
     "prompt_number": 20
    },
    {
     "cell_type": "markdown",
     "metadata": {},
     "source": [
      "> TODO Answer question **a** above here (click here, hit esc-Enter to edit, enter your answer, then shift-Enter to exit)"
     ]
    },
    {
     "cell_type": "markdown",
     "metadata": {},
     "source": [
      "**b**. *Stopwords* are common words that do not contribute much to the content or meaning of a document (e.g., \"the\", \"a\", \"is\", \"to\", etc.).\n",
      "Stopwords add noise to bag-of-words comparisons, so the are usually excluded.\n",
      "Using the included file \"stopwords.txt\", implement `tokenize`, an improved tokenizer that does not emit stopwords.\n"
     ]
    },
    {
     "cell_type": "code",
     "collapsed": false,
     "input": [
      "\n",
      "def tokenize(string):\n",
      "    stop = []\n",
      "    lst = []\n",
      "    with open(DATA_PATH + \"stopwords.txt\") as f: \n",
      "        reader = csv.reader(f)\n",
      "        for row in reader: \n",
      "            stop = stop + (row)\n",
      "    token = re.split(split_regex, string)\n",
      "    for x in token: \n",
      "        if x != \"\" and x.lower() not in stop: lst.append(x.lower())\n",
      "    return lst \n",
      "    \n",
      "\n",
      "print tokenize(quickbrownfox) # Should give ['quick', 'brown', ... ]\n",
      "\n",
      "assert(tokenize(\"Why a the?\") == [])\n",
      "assert(tokenize(quickbrownfox) == ['quick','brown','fox','jumps','lazy','dog'])\n"
     ],
     "language": "python",
     "metadata": {},
     "outputs": [
      {
       "output_type": "stream",
       "stream": "stdout",
       "text": [
        "['quick', 'brown', 'fox', 'jumps', 'lazy', 'dog']\n"
       ]
      }
     ],
     "prompt_number": 23
    },
    {
     "cell_type": "markdown",
     "metadata": {},
     "source": [
      "**c**. Now let's tokenize the two *small* data sets.\n",
      "For each one build a dictionary of tokens, i.e., a dictionary where the record IDs are the keys, and the output of `tokenize` is the values. Include tokens for the name, description, and manufacturer fields, but not the price field.\n",
      "How many tokens, total, are there in the two data sets?\n",
      "Which Amazon record has the biggest number of tokens?"
     ]
    },
    {
     "cell_type": "code",
     "collapsed": false,
     "input": [
      "def tokenize(string):\n",
      "    stop = []\n",
      "    lst = []\n",
      "    with open(DATA_PATH + \"stopwords.txt\") as f: \n",
      "        reader = csv.reader(f)\n",
      "        for row in reader: \n",
      "            stop = stop + (row)\n",
      "    token = re.split(split_regex, string)\n",
      "    for x in token: \n",
      "        if x != \"\" and x.lower() not in stop: lst.append(x.lower())\n",
      "    return lst\n",
      "\n",
      "\n",
      "def makedict(dictionary): \n",
      "    retok = {}\n",
      "    for key, val in dictionary.items(): \n",
      "        token = tokenize(val)\n",
      "        retok[key] = token\n",
      "    return retok \n",
      "        \n",
      "# TODO Compute these (dict() or DataFrame OK)\n",
      "amazon_rec2tok = makedict(amazon_small)\n",
      "google_rec2tok = makedict(google_small)"
     ],
     "language": "python",
     "metadata": {},
     "outputs": [],
     "prompt_number": 30
    },
    {
     "cell_type": "code",
     "collapsed": false,
     "input": [
      "total_tokens = len(amazon_rec2tok)\n",
      "sorted_amazon = sorted(amazon_rec2tok.iteritems(), key=lambda (k, v): len(v), reverse=True)\n",
      "\n",
      "\n",
      "print 'There are %s tokens in the combined data sets' % total_tokens\n",
      "\n",
      "biggest_record = sorted_amazon[0][0] # TODO Fix me\n",
      "biggest_len = len(sorted_amazon[0])\n",
      "print 'The Amazon record with ID \"%s\" has the most tokens \"%d\"' % (biggest_record, biggest_len)"
     ],
     "language": "python",
     "metadata": {},
     "outputs": [
      {
       "output_type": "stream",
       "stream": "stdout",
       "text": [
        "There are 200 tokens in the combined data sets\n",
        "The Amazon record with ID \"b000o24l3q\" has the most tokens \"2\"\n"
       ]
      }
     ],
     "prompt_number": 33
    },
    {
     "cell_type": "markdown",
     "metadata": {},
     "source": [
      "### 1.2 Weighted Bag-of-Words: TF-IDF\n",
      "\n",
      "Bag-of-words comparisons are not very good when all tokens are treated the same: some tokens are more important than others.\n",
      "Weights give us a way to specify which tokens to favor.\n",
      "With weights, when we compare documents, instead of counting common tokens, we sum up the weights of common tokens.\n",
      "\n",
      "A good heuristic for assigning weights is called \"Term-Frequency/Inverse-Document-Frequency,\" or TF-IDF for short.\n",
      "\n",
      "#### TF\n",
      "\n",
      "TF rewards tokens that appear more in the same document.\n",
      "It is computed as the frequency of a token in a document, that is, if token `t` appears 5 times in document `d` then the TF of `t` in `d` is `5`. The intuition for TF is that if a word occurs often in a document, then it is more important to the meaning of the document.\n",
      "\n",
      "#### IDF\n",
      "\n",
      "IDF rewards tokens that are rare across the documents in a data set.\n",
      "The intuition is that it is more significant if two documents share a rare word than a common one.\n",
      "IDF weight for a token, *t*, in a set of documents, *U*, is computed as follows: \n",
      "\n",
      "* Let *N* be the total number of documents in *U*\n",
      "* Find *n(t)*, the number of documents in *U* that contain *t*\n",
      "* Then *IDF(t) = log(N/(1+n(t)))*.\n",
      "\n",
      "Note we are actually using the log of the inverse document frequency, which typically works better than the raw inverse frequency. But the terminology \"IDF\" still applies.\n",
      "\n",
      "#### TF-IDF\n",
      "\n",
      "Finally, to bring it all together, the total TF-IDF weight for a token in a document is the product of its TF and IDF weights."
     ]
    },
    {
     "cell_type": "markdown",
     "metadata": {},
     "source": [
      "#### Exercise 2\n",
      "\n",
      "**a**. Implement `tf(tokens)` that takes a list of tokens belonging to a single document and returns a dictionary mapping tokens to TF weights.\n"
     ]
    },
    {
     "cell_type": "code",
     "collapsed": false,
     "input": [
      "# TODO Implement this\n",
      "def tf(tokens):\n",
      "    pass\n",
      "    \n",
      "\n",
      "print tf(tokenize(quickbrownfox + quickbrownfox)) # Should give {'brown': 2, 'lazy': 2, 'jumps': 2...}"
     ],
     "language": "python",
     "metadata": {},
     "outputs": [
      {
       "ename": "NameError",
       "evalue": "name 'tokenize' is not defined",
       "output_type": "pyerr",
       "traceback": [
        "\u001b[0;31m---------------------------------------------------------------------------\u001b[0m\n\u001b[0;31mNameError\u001b[0m                                 Traceback (most recent call last)",
        "\u001b[0;32m<ipython-input-8-9c28f3163449>\u001b[0m in \u001b[0;36m<module>\u001b[0;34m()\u001b[0m\n\u001b[1;32m      4\u001b[0m \u001b[0;34m\u001b[0m\u001b[0m\n\u001b[1;32m      5\u001b[0m \u001b[0;34m\u001b[0m\u001b[0m\n\u001b[0;32m----> 6\u001b[0;31m \u001b[0;32mprint\u001b[0m \u001b[0mtf\u001b[0m\u001b[0;34m(\u001b[0m\u001b[0mtokenize\u001b[0m\u001b[0;34m(\u001b[0m\u001b[0mquickbrownfox\u001b[0m \u001b[0;34m+\u001b[0m \u001b[0mquickbrownfox\u001b[0m\u001b[0;34m)\u001b[0m\u001b[0;34m)\u001b[0m \u001b[0;31m# Should give {'brown': 2, 'lazy': 2, 'jumps': 2...}\u001b[0m\u001b[0;34m\u001b[0m\u001b[0m\n\u001b[0m",
        "\u001b[0;31mNameError\u001b[0m: name 'tokenize' is not defined"
       ]
      }
     ],
     "prompt_number": 8
    },
    {
     "cell_type": "markdown",
     "metadata": {},
     "source": [
      "**b**. Implement `idfs` that assigns an IDF weight to every unique token in a collection of data called `corpus`.  You may structure `corpus` however you want, but `idfs` should return a dictionary mapping tokens to weights.  Use `idfs` to compute IDF weights for all tokens in the combined small data sets.  How many unique tokens are there?"
     ]
    },
    {
     "cell_type": "code",
     "collapsed": false,
     "input": [
      "import math\n",
      "# TODO Implement this\n",
      "def idfs(corpus):\n",
      "    pass\n",
      "\n",
      "idfs_small =  # Use find_idfs here\n",
      "\n",
      "unique_tokens = len(idfs_small)\n",
      "\n",
      "print \"There are %s unique tokens in the small data sets.\" % unique_tokens\n",
      "\n",
      "idfs_small['product'] # should be 2.436116509460426"
     ],
     "language": "python",
     "metadata": {},
     "outputs": []
    },
    {
     "cell_type": "markdown",
     "metadata": {},
     "source": [
      "**c**. What are the 10 tokens with the smallest IDF in the combined small data set?  Do you think they are useful for search?  Why or why not?"
     ]
    },
    {
     "cell_type": "code",
     "collapsed": false,
     "input": [
      "\n",
      "smallest_idf_tokens = # TODO Compute me\n",
      "\n",
      "print smallest_idf_tokens\n"
     ],
     "language": "python",
     "metadata": {},
     "outputs": []
    },
    {
     "cell_type": "markdown",
     "metadata": {},
     "source": [
      "> TODO Answer question **c** here (click, esc-Enter, edit, shift-Enter)"
     ]
    },
    {
     "cell_type": "markdown",
     "metadata": {},
     "source": [
      "**d**. Plot a histogram of IDF values.  Use 20 buckets for the histogram.  What conclusions can you draw from the distribution of weights?"
     ]
    },
    {
     "cell_type": "code",
     "collapsed": false,
     "input": [
      "import pylab\n",
      "%matplotlib inline\n",
      "\n",
      "# TODO Make a plot. HINT: You can use pylab.hist"
     ],
     "language": "python",
     "metadata": {},
     "outputs": []
    },
    {
     "cell_type": "markdown",
     "metadata": {},
     "source": [
      "> TODO Answer question **d**"
     ]
    },
    {
     "cell_type": "markdown",
     "metadata": {},
     "source": [
      "**e**. Use `tf` to implement `tfidf(tokens, idfs)` that takes a list of tokens from a document and a dictionary of idf weights and returns a dictionary mapping tokens to total TF-IDF weight.  Use `tfidf` to compute the weights of Amazon product record 'b000hkgj8k'."
     ]
    },
    {
     "cell_type": "code",
     "collapsed": false,
     "input": [
      "# TODO Implement this\n",
      "def tfidf(tokens, idfs):\n",
      "    pass\n",
      "\n",
      "rec_b000hkgj8k_weights =  # Fix me\n",
      "\n",
      "print \"Amazon record 'b000hkgj8k' has tokens and weights:\\n%s\" % rec_b000hkgj8k_weights"
     ],
     "language": "python",
     "metadata": {},
     "outputs": []
    },
    {
     "cell_type": "markdown",
     "metadata": {},
     "source": [
      "\n",
      "### 1.3 Cosine Similarity\n",
      "\n",
      "Now we are ready to do text comparisons in a formal way.\n",
      "The metric of string distance we will use is called **cosine similarity**.\n",
      "We will treat each document as a vector in some high dimensional space.\n",
      "Then, to compare two documents we compute the cosine of the angle between their two document vectors.\n",
      "This is easier than it sounds.\n",
      "\n",
      "The first question to answer is how do we represent documents as vectors?\n",
      "The answer is familiar: bag-of-words!\n",
      "We treat each unique token as a dimension, and treat token weights as magnitudes in their respective token dimensions.\n",
      "For example, suppose we use simple counts as weights, and we want to interpret the string \"Hello, world!  Goodbye, world!\" as a vector.\n",
      "Then in the \"hello\" and \"goodbye\" dimensions the vector has value 1, in the \"world\" dimension it has value 2, and it is zero in all other dimensions.\n",
      "\n",
      "Next question is: given two vectors how do we find the cosine of the angle between them?\n",
      "Recall the formula for the dot product of two vectors:\n",
      "\n",
      "$$a \\cdot b = \\| a \\| \\| b \\| \\cos \\theta$$\n",
      "\n",
      "Here $a \\cdot b = \\sum_{i=1}^n a_i b_i$ is the ordinary dot product of two vectors, and $\\|a\\| = \\sqrt{ \\sum_{i=1}^n a_i^2 }$ is the norm of $a$.\n",
      "\n",
      "We can rearrange terms and solve for the cosine to find it is simply the normalized dot product of the vectors.\n",
      "With our vector model, the dot product and norm computations are simple functions of the bag-of-words document representations, so we now have a formal way to compute similarity:\n",
      "\n",
      "$$similarity = \\cos \\theta = \\frac{a \\cdot b}{\\|a\\| \\|b\\|} = \\frac{\\sum_{i=1}^n a_i b_i}{\\sqrt{\\sum_{i=1}^n a_i^2} \\sqrt{\\sum_{i=1}^n b_i^2}}$$\n",
      "\n",
      "Setting aside the algebra, the geometric interpretation is more intuitive.\n",
      "The angle between two document vectors is small if they share many tokens in common, because they are pointing in roughly the same direction.\n",
      "Then, the cosine of the angle will be large.\n",
      "Otherwise, if the angle is large (and they have few words in common), the cosine is small.\n",
      "So the cosine scales proportionally with our intuitive sense of similarity."
     ]
    },
    {
     "cell_type": "markdown",
     "metadata": {},
     "source": [
      "\n",
      "#### Exercise 3\n",
      "\n",
      "**a**. Implement `cosine_similarity(tokens1, tokens2, idfs)` that takes two lists of tokens and computes their cosine similarity in the context of some global IDF weights.\n",
      "Use `tfidf`, and the IDF weights from exercise **2b**.\n"
     ]
    },
    {
     "cell_type": "code",
     "collapsed": false,
     "input": [
      "import math\n",
      "\n",
      "# Optional utility\n",
      "def dotprod(a, b):\n",
      "\n",
      "# Optional utility\n",
      "def norm(a):\n",
      "\n",
      "# Optional freebie\n",
      "def cossim(a, b):\n",
      "    return dotprod(a, b) / norm(a) / norm(b)\n",
      "\n",
      "test_vec1 = {'foo': 2, 'bar': 3, 'baz': 5 }\n",
      "test_vec2 = {'foo': 1, 'bax': 5, 'baz': 4 }\n",
      "print dotprod(test_vec1, test_vec2), norm(test_vec1) # Should be 22 6.16441400297\n",
      "\n",
      "# TODO Implement this\n",
      "def cosine_similarity(tokens1, tokens2, idfs):\n",
      "\n",
      "print cosine_similarity([\"adobe\", \"photoshop\"],\n",
      "                        [\"adobe\", \"illustrator\"], \n",
      "                        idfs_small) # Should be 0.321248173318\n"
     ],
     "language": "python",
     "metadata": {},
     "outputs": []
    },
    {
     "cell_type": "markdown",
     "metadata": {},
     "source": [
      "**b**. Now we can finally do some entity resolution!\n",
      "For every product record in the small Google data set, use `cosine_similarity` to compute its similarity to every record in the small Amazon set.  Build a dictionary mapping `(Amazon Id, Google Id)` tuples to similarity scores between 0 and 1.\n",
      "What is the similarity between Amazon record 'b000o24l3q' and Google record `http://www.google.com/base/feeds/snippets/17242822440574356561`."
     ]
    },
    {
     "cell_type": "code",
     "collapsed": false,
     "input": [
      "# TODO Compute similarities\n",
      "similarities = {}\n",
      "        \n",
      "print 'Requested similarity is %s.' % similarities[('b000o24l3q',\n",
      "  'http://www.google.com/base/feeds/snippets/17242822440574356561')]"
     ],
     "language": "python",
     "metadata": {},
     "outputs": []
    },
    {
     "cell_type": "markdown",
     "metadata": {},
     "source": [
      "**c**.  Use the \"gold standard\" data (loaded from the supplied file) to answer the following questions. How many true duplicate pairs are there in the small data sets? What is the average similarity score for true duplicates?  What about for non-duplicates?  Based on this, is cosine similarity doing a good job, qualitatively speaking, of identifying duplicates?  Why or why not?"
     ]
    },
    {
     "cell_type": "code",
     "collapsed": false,
     "input": [
      "gold_standard = [] # Load this if not already loaded\n",
      "\n",
      "true_dups = 0 # Fix me\n",
      "avg_sim_dups = 0.0 # Fix me\n",
      "avg_sim_non = 0.0 # Fix me\n",
      "\n",
      "print \"There are %s true duplicates.\" % true_dups\n",
      "print \"The average similarity of true duplicates is %s.\" % avg_sim_dups\n",
      "print \"And for non duplicates, it is %s.\" % avg_sim_non\n"
     ],
     "language": "python",
     "metadata": {},
     "outputs": []
    },
    {
     "cell_type": "markdown",
     "metadata": {},
     "source": [
      "> TODO Answer question **c** here"
     ]
    },
    {
     "cell_type": "code",
     "collapsed": false,
     "input": [],
     "language": "python",
     "metadata": {},
     "outputs": []
    }
   ],
   "metadata": {}
  }
 ]
}